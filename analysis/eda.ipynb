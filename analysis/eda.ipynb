{
 "cells": [
  {
   "cell_type": "code",
   "execution_count": 97,
   "id": "b9492322",
   "metadata": {},
   "outputs": [
    {
     "data": {
      "text/plain": [
       "True"
      ]
     },
     "execution_count": 97,
     "metadata": {},
     "output_type": "execute_result"
    }
   ],
   "source": [
    "from dotenv import load_dotenv\n",
    "\n",
    "load_dotenv()"
   ]
  },
  {
   "cell_type": "code",
   "execution_count": 98,
   "id": "5f77d5c5",
   "metadata": {},
   "outputs": [],
   "source": [
    "import requests\n",
    "from datetime import datetime\n",
    "import os\n",
    "\n",
    "CLASSES_ID = os.getenv(\"NOTION_DB_ID_classes\")\n",
    "INSTRUCTORS_ID = os.getenv(\"NOTION_DB_ID_instructors\")\n",
    "STUDENTS_ID = os.getenv(\"NOTION_DB_ID_students\")\n",
    "NOTION_TOKEN = os.getenv(\"NOTION_TOKEN\")\n",
    "NOTION_VERSION = \"2022-06-28\""
   ]
  },
  {
   "cell_type": "code",
   "execution_count": 99,
   "id": "6b746be5",
   "metadata": {},
   "outputs": [
    {
     "data": {
      "text/plain": [
       "'21a0f3877ec180418625ddd19942c429'"
      ]
     },
     "execution_count": 99,
     "metadata": {},
     "output_type": "execute_result"
    }
   ],
   "source": [
    "STUDENTS_ID"
   ]
  },
  {
   "cell_type": "code",
   "execution_count": 138,
   "id": "78e735c0",
   "metadata": {},
   "outputs": [],
   "source": [
    "def get_database(ID, log=False):\n",
    "    url = f\"https://api.notion.com/v1/databases/{ID}/query\"\n",
    "    headers = {\n",
    "        \"Authorization\": f\"Bearer {NOTION_TOKEN}\",\n",
    "        \"Notion-Version\": NOTION_VERSION,\n",
    "        \"Content-Type\": \"application/json\"\n",
    "    }\n",
    "    res = requests.post(url, headers=headers).json()\n",
    "    if log:\n",
    "        print(\"Notion Version\", NOTION_VERSION)\n",
    "        print(\"Database ID\", ID)\n",
    "        print(res.keys())\n",
    "    if \"status\" not in res.keys():\n",
    "        return res\n",
    "    else:\n",
    "        raise Exception(res)\n",
    "\n",
    "\n",
    "classes = get_database(CLASSES_ID)\n",
    "instructors = get_database(INSTRUCTORS_ID)\n",
    "students = get_database(STUDENTS_ID)"
   ]
  },
  {
   "cell_type": "code",
   "execution_count": 139,
   "id": "86a74cfa",
   "metadata": {},
   "outputs": [
    {
     "data": {
      "text/plain": [
       "'21b0f387-7ec1-807c-8da5-f71a9592ef1d'"
      ]
     },
     "execution_count": 139,
     "metadata": {},
     "output_type": "execute_result"
    }
   ],
   "source": [
    "students[\"results\"][0][\"id\"]"
   ]
  },
  {
   "cell_type": "code",
   "execution_count": 148,
   "id": "0284bdc1",
   "metadata": {},
   "outputs": [],
   "source": [
    "from datetime import datetime, timedelta\n",
    "from zoneinfo import ZoneInfo  # Requires Python 3.9+\n",
    "\n",
    "def get_current_time(tz: str = \"Asia/Kolkata\") -> tuple[str, str]:\n",
    "    now = datetime.now(ZoneInfo(tz))\n",
    "    current_time = now.strftime(\"%H%M\")\n",
    "    current_day = now.strftime(\"%A\")  # e.g., 'Monday', 'Tuesday'\n",
    "    return current_time, current_day"
   ]
  },
  {
   "cell_type": "code",
   "execution_count": 149,
   "id": "39a1345b",
   "metadata": {},
   "outputs": [
    {
     "data": {
      "text/plain": [
       "('2305', 'Tuesday')"
      ]
     },
     "execution_count": 149,
     "metadata": {},
     "output_type": "execute_result"
    }
   ],
   "source": [
    "get_current_time()"
   ]
  },
  {
   "cell_type": "code",
   "execution_count": null,
   "id": "ec082bea",
   "metadata": {},
   "outputs": [
    {
     "name": "stdout",
     "output_type": "stream",
     "text": [
      "Hello\n",
      "Tuesday at 2256\n",
      "Instructor Name:  Sayan and Contact:  9198745316\n",
      "-------------------------\n"
     ]
    }
   ],
   "source": [
    "import json\n",
    "for class_row in classes[\"results\"]:\n",
    "    day_name = class_row[\"properties\"][\"Day\"][\"select\"][\"name\"]\n",
    "    start_time = class_row[\"properties\"][\"Start Time\"][\"rich_text\"][0][\"plain_text\"]\n",
    "    curr_time, curr_day = get_current_time()\n",
    "\n",
    "    if curr_time == start_time and curr_day == day_name:\n",
    "        print(\"Hello\")\n",
    "    else:\n",
    "        continue\n",
    "    print(f\"{day_name} at {start_time}\")\n",
    "\n",
    "    for instructor in instructors[\"results\"]:\n",
    "        for class_instructor in class_row[\"properties\"][\"Instructor\"][\"relation\"]:\n",
    "            if instructor[\"id\"] == class_instructor[\"id\"]:\n",
    "                instuctor_name = instructor[\"properties\"][\"Name\"][\"title\"][0][\"plain_text\"]\n",
    "                instructor_contact = instructor[\"properties\"][\"Contact\"][\"phone_number\"]\n",
    "                print(\"Instructor Name: \", instuctor_name, \"and Contact: \", instructor_contact)\n",
    "\n",
    "    for student in students[\"results\"]:\n",
    "        for class_student in class_row[\"properties\"][\"Students\"][\"relation\"]:\n",
    "            if student[\"id\"] == class_student[\"id\"]:\n",
    "                student_name = student[\"properties\"][\"Name\"][\"title\"][0][\"plain_text\"]\n",
    "                student_contact = student[\"properties\"][\"Contact\"][\"phone_number\"]\n",
    "                print(\"Student Name: \", student_name, \"and Contact: \", student_contact)\n",
    "\n",
    "\n",
    "    # break\n",
    "    # print(\"Classes: \", row[\"properties\"].keys())"
   ]
  },
  {
   "cell_type": "code",
   "execution_count": null,
   "id": "2a6a7f18",
   "metadata": {},
   "outputs": [
    {
     "data": {
      "text/plain": [
       "17"
      ]
     },
     "execution_count": 24,
     "metadata": {},
     "output_type": "execute_result"
    }
   ],
   "source": [
    "len(data[\"results\"])"
   ]
  },
  {
   "cell_type": "code",
   "execution_count": 22,
   "id": "350a5dbf",
   "metadata": {},
   "outputs": [
    {
     "name": "stdout",
     "output_type": "stream",
     "text": [
      "Wednesday at 1700\n"
     ]
    }
   ],
   "source": [
    "day = data[\"results\"][0][\"properties\"][\"Day\"][\"select\"][\"name\"]\n",
    "time = data[\"results\"][0][\"properties\"][\"Start Time\"][\"number\"]\n",
    "\n",
    "print(f\"{day} at {time}\")"
   ]
  },
  {
   "cell_type": "code",
   "execution_count": 23,
   "id": "b970652a",
   "metadata": {},
   "outputs": [
    {
     "name": "stdout",
     "output_type": "stream",
     "text": [
      "Current Tuesday at 1535\n"
     ]
    }
   ],
   "source": [
    "from datetime import datetime, timedelta\n",
    "\n",
    "# Get current UTC time\n",
    "now_utc = datetime.utcnow()\n",
    "\n",
    "# Add 5 hours and 30 minutes\n",
    "ist_offset = timedelta(hours=5, minutes=30)\n",
    "now_ist = now_utc + ist_offset\n",
    "\n",
    "now = datetime.now()\n",
    "current_day = now.strftime(\"%A\")\n",
    "current_time = now.strftime(\"%H%M\")\n",
    "\n",
    "print(f\"Current {current_day} at {current_time}\")"
   ]
  },
  {
   "cell_type": "code",
   "execution_count": 33,
   "id": "e99bd2e8",
   "metadata": {},
   "outputs": [
    {
     "data": {
      "text/plain": [
       "(int, int)"
      ]
     },
     "execution_count": 33,
     "metadata": {},
     "output_type": "execute_result"
    }
   ],
   "source": [
    "type(int(current_time)), type(time)"
   ]
  }
 ],
 "metadata": {
  "kernelspec": {
   "display_name": "Python 3",
   "language": "python",
   "name": "python3"
  },
  "language_info": {
   "codemirror_mode": {
    "name": "ipython",
    "version": 3
   },
   "file_extension": ".py",
   "mimetype": "text/x-python",
   "name": "python",
   "nbconvert_exporter": "python",
   "pygments_lexer": "ipython3",
   "version": "3.11.13"
  }
 },
 "nbformat": 4,
 "nbformat_minor": 5
}
