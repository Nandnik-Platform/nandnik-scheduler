{
 "cells": [
  {
   "cell_type": "code",
   "execution_count": 3,
   "id": "b9492322",
   "metadata": {},
   "outputs": [
    {
     "data": {
      "text/plain": [
       "True"
      ]
     },
     "execution_count": 3,
     "metadata": {},
     "output_type": "execute_result"
    }
   ],
   "source": [
    "from dotenv import load_dotenv\n",
    "\n",
    "load_dotenv()"
   ]
  },
  {
   "cell_type": "code",
   "execution_count": 6,
   "id": "5f77d5c5",
   "metadata": {},
   "outputs": [],
   "source": [
    "import requests\n",
    "from datetime import datetime\n",
    "import os\n",
    "\n",
    "NOTION_DB_ID = os.getenv(\"NOTION_DB_ID\")\n",
    "NOTION_TOKEN = os.getenv(\"NOTION_TOKEN\")\n",
    "NOTION_VERSION = \"2022-06-28\""
   ]
  },
  {
   "cell_type": "code",
   "execution_count": 8,
   "id": "78e735c0",
   "metadata": {},
   "outputs": [],
   "source": [
    "url = f\"https://api.notion.com/v1/databases/{NOTION_DB_ID}/query\"\n",
    "headers = {\n",
    "    \"Authorization\": f\"Bearer {NOTION_TOKEN}\",\n",
    "    \"Notion-Version\": NOTION_VERSION,\n",
    "    \"Content-Type\": \"application/json\"\n",
    "}"
   ]
  },
  {
   "cell_type": "code",
   "execution_count": 10,
   "id": "c474e8dd",
   "metadata": {},
   "outputs": [],
   "source": [
    "response = requests.post(url, headers=headers)\n",
    "data = response.json()"
   ]
  },
  {
   "cell_type": "code",
   "execution_count": 17,
   "id": "d19f35e6",
   "metadata": {},
   "outputs": [
    {
     "data": {
      "text/plain": [
       "dict_keys(['Duration (hrs)', 'Day', 'Numbers', 'Students', 'Start Time', 'Name'])"
      ]
     },
     "execution_count": 17,
     "metadata": {},
     "output_type": "execute_result"
    }
   ],
   "source": [
    "data[\"results\"][0][\"properties\"].keys()"
   ]
  },
  {
   "cell_type": "code",
   "execution_count": 29,
   "id": "350a5dbf",
   "metadata": {},
   "outputs": [
    {
     "name": "stdout",
     "output_type": "stream",
     "text": [
      "Wednesday at 1700\n"
     ]
    }
   ],
   "source": [
    "day = data[\"results\"][0][\"properties\"][\"Day\"][\"select\"][\"name\"]\n",
    "time = data[\"results\"][0][\"properties\"][\"Start Time\"][\"number\"]\n",
    "\n",
    "print(f\"{day} at {time}\")"
   ]
  },
  {
   "cell_type": "code",
   "execution_count": null,
   "id": "b970652a",
   "metadata": {},
   "outputs": [
    {
     "name": "stdout",
     "output_type": "stream",
     "text": [
      "Current Sunday at 2365\n"
     ]
    }
   ],
   "source": [
    "from datetime import datetime, timedelta\n",
    "\n",
    "# Get current UTC time\n",
    "now_utc = datetime.utcnow()\n",
    "\n",
    "# Add 5 hours and 30 minutes\n",
    "ist_offset = timedelta(hours=5, minutes=30)\n",
    "now_ist = now_utc + ist_offset\n",
    "\n",
    "now = datetime.now()\n",
    "current_day = now.strftime(\"%A\")\n",
    "current_time = now.strftime(\"%H%M\")\n",
    "\n",
    "print(f\"Current {current_day} at {current_time}\")"
   ]
  },
  {
   "cell_type": "code",
   "execution_count": 33,
   "id": "e99bd2e8",
   "metadata": {},
   "outputs": [
    {
     "data": {
      "text/plain": [
       "(int, int)"
      ]
     },
     "execution_count": 33,
     "metadata": {},
     "output_type": "execute_result"
    }
   ],
   "source": [
    "type(int(current_time)), type(time)"
   ]
  }
 ],
 "metadata": {
  "kernelspec": {
   "display_name": "Python 3",
   "language": "python",
   "name": "python3"
  },
  "language_info": {
   "codemirror_mode": {
    "name": "ipython",
    "version": 3
   },
   "file_extension": ".py",
   "mimetype": "text/x-python",
   "name": "python",
   "nbconvert_exporter": "python",
   "pygments_lexer": "ipython3",
   "version": "3.11.13"
  }
 },
 "nbformat": 4,
 "nbformat_minor": 5
}
